{
 "cells": [
  {
   "cell_type": "code",
   "execution_count": 1,
   "metadata": {},
   "outputs": [],
   "source": [
    "# USAGE\n",
    "# python detect.py --images images\n",
    "\n",
    "# import the necessary packages\n",
    "from __future__ import print_function\n",
    "from imutils.object_detection import non_max_suppression\n",
    "from imutils import paths\n",
    "import numpy as np\n",
    "import argparse\n",
    "import imutils\n",
    "import cv2\n",
    "\n",
    "\n"
   ]
  },
  {
   "cell_type": "markdown",
   "metadata": {},
   "source": [
    "<b>initilize HOG<br>\n",
    "load pretrained model</b>"
   ]
  },
  {
   "cell_type": "code",
   "execution_count": 2,
   "metadata": {},
   "outputs": [],
   "source": [
    "\n",
    "# initializes the Histogram of Oriented Gradients descriptor\n",
    "hog = cv2.HOGDescriptor()\n",
    "#set the Support Vector Machine to be pre-trained pedestrian detector\n",
    "hog.setSVMDetector(cv2.HOGDescriptor_getDefaultPeopleDetector())\n",
    "\n",
    "# loop over the image paths\n",
    "imagePaths = list(paths.list_images(\"images\"))"
   ]
  },
  {
   "cell_type": "markdown",
   "metadata": {},
   "source": [
    "# Loop over image directory"
   ]
  },
  {
   "cell_type": "code",
   "execution_count": null,
   "metadata": {},
   "outputs": [
    {
     "name": "stdout",
     "output_type": "stream",
     "text": [
      "[INFO] images\\nav.JPG: 1 original boxes, 1 after suppression\n",
      "[INFO] images\\rah.jpeg: 3 original boxes, 3 after suppression\n",
      "[INFO] images\\rah1.jpeg: 4 original boxes, 3 after suppression\n",
      "[INFO] images\\rah2.jpeg: 1 original boxes, 1 after suppression\n",
      "[INFO] images\\rah3.jpeg: 1 original boxes, 1 after suppression\n",
      "[INFO] images\\rah4.jpeg: 1 original boxes, 1 after suppression\n",
      "[INFO] images\\rah5.jpeg: 0 original boxes, 0 after suppression\n"
     ]
    }
   ],
   "source": [
    "\n",
    "for imagePath in imagePaths:\n",
    "    # load the image and resize it to (1) reduce detection time\n",
    "    # and (2) improve detection accuracy\n",
    "    image = cv2.imread(imagePath)\n",
    "    \n",
    "    '''\n",
    "        Reason of reducing size of image\n",
    "        \n",
    "        Reducing image size ensures that less sliding windows in the image pyramid need to be evaluated \n",
    "         hus reducing detection time (and increasing overall detection throughput).\n",
    "        Resizing our image also improves the overall accuracy of our pedestrian detection (i.e.less false-positives).\n",
    "        \n",
    "    '''\n",
    "    image = imutils.resize(image, width=min(400, image.shape[1]))\n",
    "    orig = image.copy()\n",
    "\n",
    "    # detect people in the image\n",
    "    '''\n",
    "    detectMultiScale()  function returns a 2-tuple of rects , or the bounding box (x, y)-coordinates of each person in\n",
    "    the image, and weights , the confidence value returned by the SVM for each detection.\n",
    "    '''\n",
    "    (rects, weights) = hog.detectMultiScale(image, winStride=(4, 4),padding=(8, 8), scale=1.05)\n",
    "\n",
    "    # draw the original bounding boxes\n",
    "    for (x, y, w, h) in rects:\n",
    "        cv2.rectangle(orig, (x, y), (x + w, y + h), (0, 0, 255), 2)\n",
    "\n",
    "    # apply non-maxima suppression to the bounding boxes using a\n",
    "    # fairly large overlap threshold to try to maintain overlapping\n",
    "    # boxes that are still people\n",
    "    rects = np.array([[x, y, x + w, y + h] for (x, y, w, h) in rects])\n",
    "    #suppress bounding boxes that overlap with a significant threshold \n",
    "    pick = non_max_suppression(rects, probs=None, overlapThresh=0.65)\n",
    "\n",
    "    # draw the final bounding boxes\n",
    "    for (xA, yA, xB, yB) in pick:\n",
    "        cv2.rectangle(image, (xA, yA), (xB, yB), (200, 255, 199), 2)\n",
    "\n",
    "    # show some information on the number of bounding boxes\n",
    "    filename = imagePath[imagePath.rfind(\"/\") + 1:]\n",
    "    print(\"[INFO] {}: {} original boxes, {} after suppression\".format(filename, len(rects), len(pick)))\n",
    "\n",
    "    # show the output images\n",
    "    #cv2.imshow(\"Before NMS\", orig)\n",
    "    cv2.imshow(\"After NMS\", image)\n",
    "    cv2.waitKey(0)\n",
    "    cv2.destroyAllWindows()"
   ]
  },
  {
   "cell_type": "code",
   "execution_count": null,
   "metadata": {},
   "outputs": [],
   "source": [
    "\n",
    "\n",
    "\n",
    "\n",
    "\n"
   ]
  }
 ],
 "metadata": {
  "kernelspec": {
   "display_name": "Python 3",
   "language": "python",
   "name": "python3"
  },
  "language_info": {
   "codemirror_mode": {
    "name": "ipython",
    "version": 3
   },
   "file_extension": ".py",
   "mimetype": "text/x-python",
   "name": "python",
   "nbconvert_exporter": "python",
   "pygments_lexer": "ipython3",
   "version": "3.7.3"
  }
 },
 "nbformat": 4,
 "nbformat_minor": 2
}
